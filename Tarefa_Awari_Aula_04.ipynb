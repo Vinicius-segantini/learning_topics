{
  "nbformat": 4,
  "nbformat_minor": 0,
  "metadata": {
    "colab": {
      "provenance": [],
      "toc_visible": true,
      "authorship_tag": "ABX9TyPZuzESSHM+M4wizsUaXAhg",
      "include_colab_link": true
    },
    "kernelspec": {
      "name": "python3",
      "display_name": "Python 3"
    },
    "language_info": {
      "name": "python"
    }
  },
  "cells": [
    {
      "cell_type": "markdown",
      "metadata": {
        "id": "view-in-github",
        "colab_type": "text"
      },
      "source": [
        "<a href=\"https://colab.research.google.com/github/Vinicius-segantini/learning_topics/blob/main/Tarefa_Awari_Aula_04.ipynb\" target=\"_parent\"><img src=\"https://colab.research.google.com/assets/colab-badge.svg\" alt=\"Open In Colab\"/></a>"
      ]
    },
    {
      "cell_type": "markdown",
      "source": [
        "#Tarefa: Python Basics\n",
        "####**Aluno: Vinicius Fernandes Segantini**\n",
        "A tarefa consiste em realizar os seguintes itens:\n",
        "1. Criar algoritmo que liste toda a sequência de Fibonacci até o número 100;\n",
        "\n",
        "\n",
        "2. Criar algoritmo que faça a fatoração do número 1024. (Exemplo de fatoração: 6! = 6x5x4x3x2x1).\n",
        "\n",
        "3. Criar uma lista de frutas (bananas, maçãs, peras, uvas, laranjas) e fazer um algoritmo para consultar se uma fruta existe na lista. Caso não exista, adicionar a nova fruta. O programa só deve encerrar a brincadeira quando o usuário informar o número 999.\n",
        "\n",
        "---\n",
        "\n"
      ],
      "metadata": {
        "id": "Wp9Qnpsacvde"
      }
    },
    {
      "cell_type": "markdown",
      "source": [
        "**1. Criar algoritmo que liste toda a sequência de Fibonacci até o número 100;**\n",
        "\n",
        "Sobre esse ponto é importante entender a teoria por trás da sequência de Fibonacci. A sequência de Fibonacci é dada pela expressão: (Fn) = (Fn-1) + (Fn-2), sendo que os valores iniciais são F1 = F2 = 1. \n",
        "\n",
        "Com o código queremos listar os valores até F100."
      ],
      "metadata": {
        "id": "tp6kixcOfG6L"
      }
    },
    {
      "cell_type": "code",
      "execution_count": null,
      "metadata": {
        "id": "3z2mErJYcAml"
      },
      "outputs": [],
      "source": [
        "#Codigo da sequencia de Fibonacci até o 100º termo.\n",
        "\n",
        "f1 = 1;\n",
        "f2 = 1;\n",
        "n = int(input('Digite até qual termo da sequência de Fibonacci você deseja listar:'));\n",
        "if n == 1:\n",
        "  print(f1);\n",
        "elif n == 2:\n",
        "  print(f1);\n",
        "  print(f2);\n",
        "else:\n",
        "  print(f1);\n",
        "  print(f2);  \n",
        "  for i in range(n-2):\n",
        "    fn = f1 + f2;\n",
        "    f1 = f2;\n",
        "    f2 = fn;\n",
        "    print(fn)\n",
        "\n"
      ]
    },
    {
      "cell_type": "markdown",
      "source": [
        "**2. Criar algoritmo que faça a fatoração do número 1024. (Exemplo de fatoração: 6! = 6x5x4x3x2x1).**"
      ],
      "metadata": {
        "id": "Fufa3wcXk8Q2"
      }
    },
    {
      "cell_type": "code",
      "source": [
        "n = int(input('Digite qual número você deseja fatorar: '));\n",
        "memoria = n\n",
        "mult = 1\n",
        "while n > 1:\n",
        "  mult *= n;\n",
        "  n -= 1;\n",
        "print(memoria,'! = ',mult)"
      ],
      "metadata": {
        "id": "_foHHGJklBe9"
      },
      "execution_count": null,
      "outputs": []
    },
    {
      "cell_type": "markdown",
      "source": [
        "**3. Criar uma lista de frutas (bananas, maçãs, peras, uvas, laranjas) e fazer um algoritmo para consultar se uma fruta existe na lista. Caso não exista, adicionar a nova fruta. O programa só deve encerrar a brincadeira quando o usuário informar o número 999.**"
      ],
      "metadata": {
        "id": "xKSbUaL2ol0K"
      }
    },
    {
      "cell_type": "code",
      "source": [
        "lista = ['bananas', 'maçãs', 'peras', 'uvas', 'laranjas']\n",
        "count_inicial = len(lista);\n",
        "print('Digite somente nomes de frutas e descubra se ela está na lista ou não (digite 999 para encerrar)!')\n",
        "consulta = ' m'\n",
        "while consulta != '999':\n",
        "  consulta = str(input('Digite a fruta: '));\n",
        "  if consulta != '999' and consulta in lista:\n",
        "    print(consulta, 'já está na lista!');\n",
        "  elif consulta != '999' and consulta not in lista:\n",
        "    print(consulta, 'não estava na lista e foi adicionado(a)!');\n",
        "    lista.append(consulta);\n",
        "  else:\n",
        "    count_final = len(lista);\n",
        "    adicionadas = count_final - count_inicial;\n",
        "    print('=======================================\\n\\nVocê encerrou o jogo! \\n\\n',adicionadas,'frutas foram adicionadas.\\n\\nA lista final ficou assim:\\n',lista);\n"
      ],
      "metadata": {
        "id": "RnyPrCM9ou3v"
      },
      "execution_count": null,
      "outputs": []
    }
  ]
}