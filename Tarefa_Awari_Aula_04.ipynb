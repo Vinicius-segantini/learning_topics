{
  "nbformat": 4,
  "nbformat_minor": 0,
  "metadata": {
    "colab": {
      "provenance": [],
      "toc_visible": true,
      "authorship_tag": "ABX9TyPZuzESSHM+M4wizsUaXAhg",
      "include_colab_link": true
    },
    "kernelspec": {
      "name": "python3",
      "display_name": "Python 3"
    },
    "language_info": {
      "name": "python"
    }
  },
  "cells": [
    {
      "cell_type": "markdown",
      "metadata": {
        "id": "view-in-github",
        "colab_type": "text"
      },
      "source": [
        "<a href=\"https://colab.research.google.com/github/Vinicius-segantini/learning_topics/blob/main/Tarefa_Awari_Aula_04.ipynb\" target=\"_parent\"><img src=\"https://colab.research.google.com/assets/colab-badge.svg\" alt=\"Open In Colab\"/></a>"
      ]
    },
    {
      "cell_type": "markdown",
      "source": [
        "#Tarefa: Python Basics\n",
        "####**Aluno: Vinicius Fernandes Segantini**\n",
        "A tarefa consiste em realizar os seguintes itens:\n",
        "1. Criar algoritmo que liste toda a sequência de Fibonacci até o número 100;\n",
        "\n",
        "\n",
        "2. Criar algoritmo que faça a fatoração do número 1024. (Exemplo de fatoração: 6! = 6x5x4x3x2x1).\n",
        "\n",
        "3. Criar uma lista de frutas (bananas, maçãs, peras, uvas, laranjas) e fazer um algoritmo para consultar se uma fruta existe na lista. Caso não exista, adicionar a nova fruta. O programa só deve encerrar a brincadeira quando o usuário informar o número 999.\n",
        "\n",
        "---\n",
        "\n"
      ],
      "metadata": {
        "id": "Wp9Qnpsacvde"
      }
    },
    {
      "cell_type": "markdown",
      "source": [
        "**1. Criar algoritmo que liste toda a sequência de Fibonacci até o número 100;**\n",
        "\n",
        "Sobre esse ponto é importante entender a teoria por trás da sequência de Fibonacci. A sequência de Fibonacci é dada pela expressão: (Fn) = (Fn-1) + (Fn-2), sendo que os valores iniciais são F1 = F2 = 1. \n",
        "\n",
        "Com o código queremos listar os valores até F100."
      ],
      "metadata": {
        "id": "tp6kixcOfG6L"
      }
    },
    {
      "cell_type": "code",
      "execution_count": null,
      "metadata": {
        "id": "3z2mErJYcAml"
      },
      "outputs": [],
      "source": [
        "#Codigo da sequencia de Fibonacci até o 100º termo.\n",
        "\n",
        "f1 = 1;\n",
        "f2 = 1;\n",
        "n = int(input('Digite até qual termo da sequência de Fibonacci você deseja listar:'));\n",
        "if n == 1:\n",
        "  print(f1);\n",
        "elif n == 2:\n",
        "  print(f1);\n",
        "  print(f2);\n",
        "else:\n",
        "  print(f1);\n",
        "  print(f2);  \n",
        "  for i in range(n-2):\n",
        "    fn = f1 + f2;\n",
        "    f1 = f2;\n",
        "    f2 = fn;\n",
        "    print(fn)\n",
        "\n"
      ]
    },
    {
      "cell_type": "markdown",
      "source": [
        "**2. Criar algoritmo que faça a fatoração do número 1024. (Exemplo de fatoração: 6! = 6x5x4x3x2x1).**"
      ],
      "metadata": {
        "id": "Fufa3wcXk8Q2"
      }
    },
    {
      "cell_type": "code",
      "source": [
        "n = int(input('Digite qual número você deseja fatorar: '));\n",
        "memoria = n\n",
        "mult = 1\n",
        "while n > 1:\n",
        "  mult *= n;\n",
        "  n -= 1;\n",
        "print(memoria,'! = ',mult)"
      ],
      "metadata": {
        "colab": {
          "base_uri": "https://localhost:8080/"
        },
        "id": "_foHHGJklBe9",
        "outputId": "372d9e71-c8c6-45f1-b5cc-f75d3bc48a0b"
      },
      "execution_count": 42,
      "outputs": [
        {
          "output_type": "stream",
          "name": "stdout",
          "text": [
            "Digite qual número você deseja fatorar: 1024\n",
            "1024 ! =  541852879605885728307692194468385473800155396353801344448287027068321061207337660373314098413621458671907918845708980753931994165770187368260454133333721939108367528012764993769768292516937891165755680659663747947314518404886677672556125188694335251213677274521963430770133713205796248433128870088436171654690237518390452944732277808402932158722061853806162806063925435310822186848239287130261690914211362251144684713888587881629252104046295315949943900357882410243934315037444113890806181406210863953275235375885018598451582229599654558541242789130902486944298610923153307579131675745146436304024890820442907734561827369030502252796926553072967370990758747793127635104702469889667961462133026237158973227857814631807156427767644064591085076564783456324457736853810336981776080498707767046394272605341416779125697733374568037475186676265961665615884681450263337042522664141862157046825684773360944326737493676674915098953768112945831626643856479027816385730291542667725665642276826058264393884514911976419675509290208592713156362983290989441052732125187249527501314071676405516936190781821236701912295767363117054126589929916482008515781751955466910902838729232224509906388638147771255227782631322385756948819393658889908993670874516860653098411020299853816281564334981847105777839534742531499622103488807584513705769839763993103929665046046121166651345131149513657400869056334867859885025601787284982567787314407216524272262997319791568603629406624740101482697559533155736658800562921274680657285201570401940692285557800611429055755324549794008939849146812639860750085263298820224719585505344773711590656682821041417265040658600683844945104354998812886801316551551714673388323340851763819713591312372548673734783537316341517369387565212899726597964903241208727348690699802996369265070088758384854547542272771024255049902319275830918157448205196421072837204937293516175341957775422453152442280391372407717891661203061040255830055033886790052116025408740454620938384367637886658769912790922323717371343176067483352513629123362885893627132294183565884010418727869354439077085278288558308427090461075019007184933139915558212752392329879780649639075333845719173822840501869570463626600235265587502335595489311637509380219119860471335771652403999403296360245577257963673286654348957325740999710567131623272345766761937651408103999193633908286420510098577454524068106897392493138287362226257920000000000000000000000000000000000000000000000000000000000000000000000000000000000000000000000000000000000000000000000000000000000000000000000000000000000000000000000000000000000000000000000000000000000000000000000000000000000000000000000000000000000000\n"
          ]
        }
      ]
    },
    {
      "cell_type": "markdown",
      "source": [
        "**3. Criar uma lista de frutas (bananas, maçãs, peras, uvas, laranjas) e fazer um algoritmo para consultar se uma fruta existe na lista. Caso não exista, adicionar a nova fruta. O programa só deve encerrar a brincadeira quando o usuário informar o número 999.**"
      ],
      "metadata": {
        "id": "xKSbUaL2ol0K"
      }
    },
    {
      "cell_type": "code",
      "source": [
        "lista = ['bananas', 'maçãs', 'peras', 'uvas', 'laranjas']\n",
        "count_inicial = len(lista);\n",
        "print('Digite somente nomes de frutas e descubra se ela está na lista ou não (digite 999 para encerrar)!')\n",
        "consulta = ' m'\n",
        "while consulta != '999':\n",
        "  consulta = str(input('Digite a fruta: '));\n",
        "  if consulta != '999' and consulta in lista:\n",
        "    print(consulta, 'já está na lista!');\n",
        "  elif consulta != '999' and consulta not in lista:\n",
        "    print(consulta, 'não estava na lista e foi adicionado(a)!');\n",
        "    lista.append(consulta);\n",
        "  else:\n",
        "    count_final = len(lista);\n",
        "    adicionadas = count_final - count_inicial;\n",
        "    print('=======================================\\n\\nVocê encerrou o jogo! \\n\\n',adicionadas,'frutas foram adicionadas.\\n\\nA lista final ficou assim:\\n',lista);\n"
      ],
      "metadata": {
        "colab": {
          "base_uri": "https://localhost:8080/"
        },
        "id": "RnyPrCM9ou3v",
        "outputId": "70df3ca7-cf6d-4ff1-8a6f-bfcb0c827fcf"
      },
      "execution_count": 54,
      "outputs": [
        {
          "output_type": "stream",
          "name": "stdout",
          "text": [
            "Digite somente nomes de frutas e descubra se ela está na lista ou não (digite 999 para encerrar)!\n",
            "Digite a fruta: toranja\n",
            "toranja não estava na lista e foi adicionado(a)!\n",
            "Digite a fruta: 999\n",
            "=======================================\n",
            "\n",
            "Você encerrou o jogo! \n",
            "\n",
            " 1 frutas foram adicionadas.\n",
            "\n",
            "A lista final ficou assim:\n",
            " ['bananas', 'maçãs', 'peras', 'uvas', 'laranjas', 'toranja']\n"
          ]
        }
      ]
    }
  ]
}